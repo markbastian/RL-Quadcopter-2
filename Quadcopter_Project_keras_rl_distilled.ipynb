{
 "cells": [
  {
   "cell_type": "code",
   "execution_count": 5,
   "metadata": {},
   "outputs": [],
   "source": [
    "import numpy as np \n",
    "import plot_utils as p\n",
    "from task import Task\n",
    "\n",
    "%matplotlib inline"
   ]
  },
  {
   "cell_type": "code",
   "execution_count": 7,
   "metadata": {},
   "outputs": [],
   "source": [
    "import reward_functions as rfns\n",
    "\n",
    "def target_fn(task):\n",
    "    # Huge crash penalty\n",
    "    if task.sim.pose[2] <= 0:\n",
    "        return -100\n",
    "    delta_target = task.target_pos - task.sim.pose[:3]\n",
    "    #Any deviation from no rotations is bad\n",
    "    ang_vel_penalty = -(abs(task.sim.angular_v)).sum()\n",
    "    #Any radial error is bad\n",
    "    radial_error_penalty = -(np.linalg.norm(delta_target[:2]))\n",
    "    #Any effort at all going up is very good. \n",
    "    # * 1000 seems excessive, but when we're talking mm at launch we need some sort of big reward\n",
    "    # z_reward = 1.0 / np.abs(delta_target[2])\n",
    "    z_reward = 1.0 / delta_target[2] ** 2\n",
    "    return (z_reward + ang_vel_penalty + radial_error_penalty) / 10.0\n",
    "              \n",
    "takeoff_task = Task(init_pose=np.array([0., 0., 0., 0., 0., 0.]),   # initial pose, \n",
    "                    init_velocities=np.array([0., 0., 0.]),         # initial velocities \n",
    "                    init_angle_velocities=np.array([0., 0., 0.]),   # initial angle velocities\n",
    "                    runtime=5.0,                                    # time limit of the episode\n",
    "                    target_pos=np.array([0., 0., 10.]),             # Desired final position\n",
    "                    reward_fn=target_fn,\n",
    "                    action_repeat=3)"
   ]
  },
  {
   "cell_type": "code",
   "execution_count": 8,
   "metadata": {},
   "outputs": [
    {
     "name": "stderr",
     "output_type": "stream",
     "text": [
      "Using TensorFlow backend.\n"
     ]
    }
   ],
   "source": [
    "#Note that for this to work you need to open a terminal and pip install keras-rl\n",
    "from agents.keras_ddpg import build_agent\n",
    "#Create an agent using the keras-rl API\n",
    "takeoff_agent = build_agent(takeoff_task.state_size, \n",
    "                            takeoff_task.action_size, \n",
    "                            takeoff_task.action_low, \n",
    "                            takeoff_task.action_high)"
   ]
  },
  {
   "cell_type": "code",
   "execution_count": 9,
   "metadata": {},
   "outputs": [
    {
     "name": "stdout",
     "output_type": "stream",
     "text": [
      "0\n",
      "900\n"
     ]
    }
   ],
   "source": [
    "print(takeoff_task.action_low)\n",
    "print(takeoff_task.action_high)"
   ]
  },
  {
   "cell_type": "code",
   "execution_count": 20,
   "metadata": {},
   "outputs": [
    {
     "name": "stdout",
     "output_type": "stream",
     "text": [
      "Training for 5000 steps ...\n",
      "Interval 1 (0 steps performed)\n",
      " 4996/10000 [=============>................] - ETA: 21s - reward: -42.1511done, took 21.741 seconds\n"
     ]
    },
    {
     "data": {
      "text/plain": [
       "<keras.callbacks.History at 0x136fcecc0>"
      ]
     },
     "execution_count": 20,
     "metadata": {},
     "output_type": "execute_result"
    }
   ],
   "source": [
    "visualize=False\n",
    "verbose=1\n",
    "#Number of training steps to be performed.\n",
    "#num_training_steps=50000\n",
    "num_training_steps=5000\n",
    "#0 for no logging, 1, for interval logging, or 2 for episode logging\n",
    "verbose=1\n",
    "#Number of steps per episode that the agent performs before automatically resetting the environment.\n",
    "max_episode_steps=200\n",
    "takeoff_agent.fit(takeoff_task, \n",
    "                  nb_steps=num_training_steps, \n",
    "                  visualize=visualize, \n",
    "                  verbose=verbose, \n",
    "                  nb_max_episode_steps=max_episode_steps,\n",
    "                  action_repetition=1,\n",
    "                  nb_max_start_steps=3,\n",
    "                  start_step_policy=lambda x: [800, 800, 800, 800]\n",
    "                 )"
   ]
  },
  {
   "cell_type": "code",
   "execution_count": 16,
   "metadata": {},
   "outputs": [],
   "source": [
    "def eval_episode(task, agent):\n",
    "    labels = ['time', 'x', 'y', 'z', 'phi', 'theta', 'psi', 'x_velocity',\n",
    "              'y_velocity', 'z_velocity', 'phi_velocity', 'theta_velocity',\n",
    "              'psi_velocity', 'rotor_speed1', 'rotor_speed2', 'rotor_speed3', 'rotor_speed4', 'reward']\n",
    "    results = {x : [] for x in labels}\n",
    "\n",
    "    state = task.reset() # start a new episode\n",
    "    while True:\n",
    "        rotor_speeds = agent.forward(state) \n",
    "        next_state, reward, done, _ = task.step(rotor_speeds)\n",
    "        to_write = [task.sim.time] + list(task.sim.pose) + list(task.sim.v) + list(task.sim.angular_v) + list(rotor_speeds) + [reward]\n",
    "        for ii in range(len(labels)):\n",
    "            results[labels[ii]].append(to_write[ii])\n",
    "        #writer.writerow(to_write)\n",
    "        state = next_state\n",
    "        if done:\n",
    "            break\n",
    "    return results"
   ]
  },
  {
   "cell_type": "code",
   "execution_count": 17,
   "metadata": {},
   "outputs": [
    {
     "data": {
      "image/png": "[encoded data removed]",
      "text/plain": [
       "<Figure size 432x288 with 1 Axes>"
      ]
     },
     "metadata": {
      "needs_background": "light"
     },
     "output_type": "display_data"
    }
   ],
   "source": [
    "takeoff_results = eval_episode(takeoff_task, takeoff_agent)\n",
    "p.plot_actions(takeoff_results)"
   ]
  },
  {
   "cell_type": "markdown",
   "metadata": {
    "collapsed": true
   },
   "source": [
    "## Plot the Rewards\n",
    "\n",
    "Once you are satisfied with your performance, plot the episode rewards, either from a single run, or averaged over multiple runs. "
   ]
  },
  {
   "cell_type": "code",
   "execution_count": 18,
   "metadata": {},
   "outputs": [
    {
     "data": {
      "image/png": "[encoded data removed]",
      "text/plain": [
       "<Figure size 432x288 with 1 Axes>"
      ]
     },
     "metadata": {
      "needs_background": "light"
     },
     "output_type": "display_data"
    }
   ],
   "source": [
    "p.plot_pos(takeoff_results)"
   ]
  },
  {
   "cell_type": "code",
   "execution_count": 19,
   "metadata": {},
   "outputs": [
    {
     "data": {
      "image/png": "[encoded data removed]",
      "text/plain": [
       "<Figure size 432x288 with 1 Axes>"
      ]
     },
     "metadata": {
      "needs_background": "light"
     },
     "output_type": "display_data"
    }
   ],
   "source": [
    "p.plot_actions(takeoff_results)"
   ]
  }
 ],
 "metadata": {
  "anaconda-cloud": {},
  "kernelspec": {
   "display_name": "Python 3",
   "language": "python",
   "name": "python3"
  },
  "language_info": {
   "codemirror_mode": {
    "name": "ipython",
    "version": 3
   },
   "file_extension": ".py",
   "mimetype": "text/x-python",
   "name": "python",
   "nbconvert_exporter": "python",
   "pygments_lexer": "ipython3",
   "version": "3.7.0"
  }
 },
 "nbformat": 4,
 "nbformat_minor": 2
}
