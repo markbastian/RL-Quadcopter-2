{
 "cells": [
  {
   "cell_type": "code",
   "execution_count": 1,
   "metadata": {},
   "outputs": [
    {
     "name": "stderr",
     "output_type": "stream",
     "text": [
      "Using TensorFlow backend.\n"
     ]
    }
   ],
   "source": [
    "%load_ext autoreload\n",
    "%autoreload 2\n",
    "\n",
    "import numpy as np \n",
    "import plot_utils as p\n",
    "import reward_functions as rfns\n",
    "\n",
    "from quad_env import Env\n",
    "\n",
    "from keras.models import Sequential, Model\n",
    "from keras.layers import Dense, Activation, Flatten, Input, Concatenate, Lambda, BatchNormalization\n",
    "from keras.layers import normalization as N\n",
    "from keras.optimizers import Adam, SGD\n",
    "#Keras rl\n",
    "from rl.agents import DDPGAgent\n",
    "from rl.memory import SequentialMemory\n",
    "from rl.random import OrnsteinUhlenbeckProcess\n",
    "\n",
    "import matplotlib.pyplot as plt\n",
    "%matplotlib inline"
   ]
  },
  {
   "cell_type": "code",
   "execution_count": 2,
   "metadata": {},
   "outputs": [],
   "source": [
    "def target_fn(task):\n",
    "    # Huge crash penalty\n",
    "    if task.sim.pose[2] <= 0:\n",
    "        return -100\n",
    "    delta_target = task.target_pos - task.sim.pose[:3]\n",
    "    #Any deviation from no rotations is bad\n",
    "    ang_vel_penalty = -(abs(task.sim.angular_v)).sum()\n",
    "    #Any radial error is bad\n",
    "    radial_error_penalty = -(np.linalg.norm(delta_target[:2]))\n",
    "    #Any effort at all going up is very good. \n",
    "    # * 1000 seems excessive, but when we're talking mm at launch we need some sort of big reward\n",
    "    # z_reward = 1.0 / np.abs(delta_target[2])\n",
    "    z_reward = 1.0 / delta_target[2] ** 2\n",
    "    return (z_reward + ang_vel_penalty + radial_error_penalty) / 10.0\n",
    "              \n",
    "takeoff_task = Env(target_pos=np.array([0., 0., 10.]), reward_fn=target_fn)"
   ]
  },
  {
   "cell_type": "code",
   "execution_count": 3,
   "metadata": {},
   "outputs": [],
   "source": [
    "def sigmoid(x):\n",
    "    return 1 / (1 + np.exp(-x))\n",
    "\n",
    "def tanh(x):\n",
    "    e = np.exp(x)\n",
    "    ne = np.exp(-e)\n",
    "    return (e - ne) / (e + ne)\n",
    "    \n",
    "def ranged_sigmoid(lo, hi):\n",
    "    lambda x: sigmoid(x) * (hi - lo) + lo\n",
    "    \n",
    "def ranged_tanh(lo, hi):\n",
    "    lambda x: (tanh(x) + 1.0) * 0.5 * (hi - lo) + lo\n",
    "    \n",
    "def capped(lo, hi):\n",
    "    lambda x: min(max(x, lo), hi)\n",
    "    \n",
    "def build_actor(nS, nA, action_min, action_max, print_summary=False):\n",
    "    actor = Sequential()\n",
    "    actor.add(Flatten(input_shape=(1,nS)))\n",
    "    actor.add(Dense(512, activation='relu'))\n",
    "    #Why BN no workey?\n",
    "    #actor.add(N.BatchNormalization())\n",
    "    #actor.add(BatchNormalization())\n",
    "    actor.add(Dense(256, activation='relu'))\n",
    "    #actor.add(BatchNormalization())\n",
    "    actor.add(Dense(128, activation='relu'))\n",
    "    #actor.add(BatchNormalization())\n",
    "    #actor.add(Dense(nA, activation=ranged_sigmoid(action_min, action_max)))\n",
    "    actor.add(Dense(nA, activation=capped(action_min, action_max)))\n",
    "    #actor.add(Dense(nA, activation='linear'))\n",
    "    if print_summary: \n",
    "        print(actor.summary())\n",
    "    return actor\n",
    "\n",
    "def build_critic(nS, nA, print_summary=False):\n",
    "    action_input = Input(shape=(nA,), name='action_input')\n",
    "    observation_input = Input(shape=(1,nS), name='observation_input')\n",
    "    flattened_observation = Flatten()(observation_input)\n",
    "    x = Concatenate()([action_input, flattened_observation])\n",
    "    x = Dense(512, activation='relu')(x)\n",
    "    x = BatchNormalization()(x)\n",
    "    x = Dense(256, activation='relu')(x)\n",
    "    x = BatchNormalization()(x)\n",
    "    x = Dense(128, activation='relu')(x)\n",
    "    x = BatchNormalization()(x)\n",
    "    x = Dense(1, activation='linear')(x)\n",
    "    critic = Model(inputs=[action_input, observation_input], outputs=x)\n",
    "    if print_summary: \n",
    "        print(critic.summary())\n",
    "    return action_input, critic\n",
    "\n",
    "def build_agent(nS, nA, action_min, action_max):\n",
    "    actor = build_actor(nS, nA, action_min, action_max)\n",
    "    action_input, critic = build_critic(nS, nA)\n",
    "    agent = DDPGAgent(nb_actions=nA, \n",
    "                      actor=actor, \n",
    "                      critic=critic, \n",
    "                      critic_action_input=action_input,\n",
    "                      memory=SequentialMemory(limit=100000, window_length=1), \n",
    "#                       nb_steps_warmup_critic=100, \n",
    "#                       nb_steps_warmup_actor=100,\n",
    "                      random_process=OrnsteinUhlenbeckProcess(size=nA, theta=0.15, sigma=0.2), \n",
    "                      gamma=0.99, \n",
    "                      target_model_update=0.0001)\n",
    "    agent.compile(Adam(lr=0.0001, clipnorm=1.), metrics=['mae'])\n",
    "#     agent.compile(SGD(lr=0.0001), metrics=['mae'])\n",
    "    return agent"
   ]
  },
  {
   "cell_type": "code",
   "execution_count": 4,
   "metadata": {},
   "outputs": [
    {
     "name": "stdout",
     "output_type": "stream",
     "text": [
      "WARNING:tensorflow:From /usr/local/lib/python3.7/site-packages/tensorflow/python/framework/op_def_library.py:263: colocate_with (from tensorflow.python.framework.ops) is deprecated and will be removed in a future version.\n",
      "Instructions for updating:\n",
      "Colocations handled automatically by placer.\n",
      "WARNING:tensorflow:From /usr/local/lib/python3.7/site-packages/tensorflow/python/ops/math_ops.py:3066: to_int32 (from tensorflow.python.ops.math_ops) is deprecated and will be removed in a future version.\n",
      "Instructions for updating:\n",
      "Use tf.cast instead.\n"
     ]
    }
   ],
   "source": [
    "#Create an agent using the keras-rl API\n",
    "takeoff_agent = build_agent(takeoff_task.state_size, \n",
    "                            takeoff_task.action_size, \n",
    "                            takeoff_task.action_low, \n",
    "                            takeoff_task.action_high)"
   ]
  },
  {
   "cell_type": "code",
   "execution_count": null,
   "metadata": {},
   "outputs": [
    {
     "name": "stdout",
     "output_type": "stream",
     "text": [
      "Training for 500000 steps ...\n",
      "Interval 1 (0 steps performed)\n",
      "10000/10000 [==============================] - 93s 9ms/step - reward: -14.8591\n",
      "1486 episodes - episode_reward: -99.994 [-100.000, -99.988] - loss: 299.570 - mean_absolute_error: 13.008 - mean_q: -10.500\n",
      "\n",
      "Interval 2 (10000 steps performed)\n",
      "10000/10000 [==============================] - 99s 10ms/step - reward: -14.1091\n",
      "1411 episodes - episode_reward: -99.994 [-100.000, -99.988] - loss: 169.584 - mean_absolute_error: 9.343 - mean_q: -23.224\n",
      "\n",
      "Interval 3 (20000 steps performed)\n",
      "10000/10000 [==============================] - 98s 10ms/step - reward: -13.8191\n",
      "1382 episodes - episode_reward: -99.994 [-100.000, -99.988] - loss: 129.731 - mean_absolute_error: 8.245 - mean_q: -30.456\n",
      "\n",
      "Interval 4 (30000 steps performed)\n",
      "10000/10000 [==============================] - 99s 10ms/step - reward: -14.1591\n",
      "1416 episodes - episode_reward: -99.994 [-100.000, -99.988] - loss: 93.464 - mean_absolute_error: 7.242 - mean_q: -38.718\n",
      "\n",
      "Interval 5 (40000 steps performed)\n",
      "10000/10000 [==============================] - 98s 10ms/step - reward: -14.2591\n",
      "1426 episodes - episode_reward: -99.994 [-100.000, -99.988] - loss: 66.008 - mean_absolute_error: 6.580 - mean_q: -45.390\n",
      "\n",
      "Interval 6 (50000 steps performed)\n",
      " 9951/10000 [============================>.] - ETA: 0s - reward: -14.6811"
     ]
    }
   ],
   "source": [
    "training_history = takeoff_agent.fit(takeoff_task, \n",
    "                                     nb_steps=500000, \n",
    "                                     visualize=False, \n",
    "                                     verbose=1, \n",
    "                                     nb_max_episode_steps=200,\n",
    "                                     action_repetition=1,\n",
    "                                     nb_max_start_steps=3,\n",
    "                                     start_step_policy=lambda x: [800, 800, 800, 800])"
   ]
  },
  {
   "cell_type": "code",
   "execution_count": 12,
   "metadata": {},
   "outputs": [
    {
     "data": {
      "image/png": "[encoded data removed]",
      "text/plain": [
       "<Figure size 432x288 with 2 Axes>"
      ]
     },
     "metadata": {
      "needs_background": "light"
     },
     "output_type": "display_data"
    }
   ],
   "source": [
    "p.plot_episode_data(training_history)"
   ]
  },
  {
   "cell_type": "code",
   "execution_count": 13,
   "metadata": {},
   "outputs": [],
   "source": [
    "def eval_episode(task, agent):\n",
    "    labels = ['time', 'x', 'y', 'z', 'phi', 'theta', 'psi', 'x_velocity',\n",
    "              'y_velocity', 'z_velocity', 'phi_velocity', 'theta_velocity',\n",
    "              'psi_velocity', 'rotor_speed1', 'rotor_speed2', 'rotor_speed3', 'rotor_speed4', 'reward']\n",
    "    results = {x : [] for x in labels}\n",
    "\n",
    "    state = task.reset() # start a new episode\n",
    "    while True:\n",
    "        rotor_speeds = agent.forward(state) \n",
    "        next_state, reward, done, _ = task.step(rotor_speeds)\n",
    "        to_write = [task.sim.time] + list(task.sim.pose) + \\\n",
    "            list(task.sim.v) + list(task.sim.angular_v) + list(rotor_speeds) + [reward]\n",
    "        for ii in range(len(labels)): \n",
    "            results[labels[ii]].append(to_write[ii])\n",
    "        state = next_state\n",
    "        if done:\n",
    "            break\n",
    "    return results"
   ]
  },
  {
   "cell_type": "code",
   "execution_count": 14,
   "metadata": {},
   "outputs": [],
   "source": [
    "takeoff_results = eval_episode(takeoff_task, takeoff_agent)"
   ]
  },
  {
   "cell_type": "code",
   "execution_count": 15,
   "metadata": {},
   "outputs": [
    {
     "data": {
      "image/png": "[encoded data removed]",
      "text/plain": [
       "<Figure size 432x288 with 1 Axes>"
      ]
     },
     "metadata": {
      "needs_background": "light"
     },
     "output_type": "display_data"
    }
   ],
   "source": [
    "p.plot_pos(takeoff_results)"
   ]
  },
  {
   "cell_type": "code",
   "execution_count": 16,
   "metadata": {},
   "outputs": [
    {
     "data": {
      "image/png": "[encoded data removed]",
      "text/plain": [
       "<Figure size 432x288 with 1 Axes>"
      ]
     },
     "metadata": {
      "needs_background": "light"
     },
     "output_type": "display_data"
    }
   ],
   "source": [
    "p.plot_actions(takeoff_results)"
   ]
  },
  {
   "cell_type": "code",
   "execution_count": null,
   "metadata": {},
   "outputs": [],
   "source": []
  },
  {
   "cell_type": "code",
   "execution_count": null,
   "metadata": {},
   "outputs": [],
   "source": []
  }
 ],
 "metadata": {
  "anaconda-cloud": {},
  "kernelspec": {
   "display_name": "Python 3",
   "language": "python",
   "name": "python3"
  },
  "language_info": {
   "codemirror_mode": {
    "name": "ipython",
    "version": 3
   },
   "file_extension": ".py",
   "mimetype": "text/x-python",
   "name": "python",
   "nbconvert_exporter": "python",
   "pygments_lexer": "ipython3",
   "version": "3.7.2"
  }
 },
 "nbformat": 4,
 "nbformat_minor": 2
}
